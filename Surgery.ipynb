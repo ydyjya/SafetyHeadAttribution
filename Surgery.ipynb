{
 "cells": [
  {
   "cell_type": "code",
   "execution_count": null,
   "metadata": {},
   "outputs": [],
   "source": [
    "from transformers import AutoModelForCausalLM, AutoTokenizer\n",
    "from lib.utils.custommodel import CustomLlamaModelForCausalLM\n",
    "from lib.utils.batch_inference import surgery, inference\n",
    "import json\n",
    "import os\n",
    "import torch\n",
    "model_path = \"Llama-2-7b-chat-hf\""
   ]
  },
  {
   "cell_type": "code",
   "execution_count": null,
   "metadata": {},
   "outputs": [],
   "source": [
    "mask_qkv = ['q']\n",
    "scale_factor = 1e-10\n",
    "mask_type = \"scale_mask\"\n",
    "\n",
    "head_mask = {\n",
    "    # (Head, Layer): mask_qkv = ['q']\n",
    "    }"
   ]
  },
  {
   "cell_type": "code",
   "execution_count": null,
   "metadata": {},
   "outputs": [],
   "source": [
    "import accelerate\n",
    "\n",
    "accelerator = accelerate.Accelerator()\n",
    "data = \"jailbreakbench\"\n",
    "data_path = f\"./exp_data/{data}.csv\"\n",
    "\n",
    "default_generate_config = {\n",
    "    \"max_new_tokens\": 256,\n",
    "    \"top_k\": 1,\n",
    "    \"top_p\": 0.9,\n",
    "    \"do_sample\": False,\n",
    "}\n",
    "default_inference_config = {\n",
    "    \"use_conv\": True,\n",
    "    \"store_path\": f\"./exp_res/{data}/\",\n",
    "    \"batch_size\": 50,\n",
    "}"
   ]
  },
  {
   "cell_type": "code",
   "execution_count": null,
   "metadata": {},
   "outputs": [],
   "source": [
    "model = CustomLlamaModelForCausalLM.from_pretrained(model_path)\n",
    "tokenizer = AutoTokenizer.from_pretrained(model_path)"
   ]
  },
  {
   "cell_type": "code",
   "execution_count": null,
   "metadata": {},
   "outputs": [],
   "source": [
    "surgery_path = f\"./Llama-{data}\"\n",
    "# storage_path\n",
    "surgery_model = surgery(model, \n",
    "                        tokenizer, \n",
    "                        head_mask, \n",
    "                        mask_type, \n",
    "                        scale_factor,\n",
    "                        surgery_path)"
   ]
  }
 ],
 "metadata": {
  "kernelspec": {
   "display_name": "Python 3",
   "language": "python",
   "name": "python3"
  },
  "language_info": {
   "codemirror_mode": {
    "name": "ipython",
    "version": 3
   },
   "file_extension": ".py",
   "mimetype": "text/x-python",
   "name": "python",
   "nbconvert_exporter": "python",
   "pygments_lexer": "ipython3",
   "version": "3.9.6"
  }
 },
 "nbformat": 4,
 "nbformat_minor": 2
}
