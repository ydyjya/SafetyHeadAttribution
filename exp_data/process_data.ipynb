{
 "cells": [
  {
   "cell_type": "code",
   "execution_count": 1,
   "metadata": {
    "execution": {
     "iopub.execute_input": "2024-09-08T06:58:47.252274Z",
     "iopub.status.busy": "2024-09-08T06:58:47.251808Z",
     "iopub.status.idle": "2024-09-08T06:58:47.563024Z",
     "shell.execute_reply": "2024-09-08T06:58:47.562553Z",
     "shell.execute_reply.started": "2024-09-08T06:58:47.252255Z"
    },
    "tags": []
   },
   "outputs": [],
   "source": [
    "import pandas as pd"
   ]
  },
  {
   "cell_type": "code",
   "execution_count": 2,
   "metadata": {
    "ExecutionIndicator": {
     "show": true
    },
    "execution": {
     "iopub.execute_input": "2024-09-08T06:58:48.532826Z",
     "iopub.status.busy": "2024-09-08T06:58:48.532254Z",
     "iopub.status.idle": "2024-09-08T06:58:48.579400Z",
     "shell.execute_reply": "2024-09-08T06:58:48.578984Z",
     "shell.execute_reply.started": "2024-09-08T06:58:48.532808Z"
    },
    "tags": []
   },
   "outputs": [],
   "source": [
    "data_path = \"./harmful_behaviors.csv\"\n",
    "output_path = \"./advbench.csv\"\n",
    "columns = ['goal']\n",
    "df = pd.read_csv(data_path, usecols=columns)\n",
    "df.rename(columns={'goal': 'input'}, inplace=True)\n",
    "df.to_csv(output_path, index=False)"
   ]
  },
  {
   "cell_type": "code",
   "execution_count": 13,
   "metadata": {},
   "outputs": [],
   "source": [
    "# jailbreakbench\n",
    "data_path = \"./data_harmful-behaviors.csv\"\n",
    "output_path = \"./jailbreakbench.csv\"\n",
    "columns = ['Goal']\n",
    "df = pd.read_csv(data_path, usecols=columns)\n",
    "df.rename(columns={'Goal': 'input'}, inplace=True)\n",
    "df.to_csv(output_path, index=False)"
   ]
  },
  {
   "cell_type": "code",
   "execution_count": 4,
   "metadata": {},
   "outputs": [],
   "source": [
    "data_path = \"./MaliciousInstruct.txt\"\n",
    "output_path = \"./maliciousinstruct.csv\"\n",
    "with open(data_path, \"r\") as f:\n",
    "    data = f.read()\n",
    "    data_list = data.split(\"\\n\")\n",
    "df = pd.DataFrame(data_list, columns=['input'])\n",
    "df.to_csv(output_path, index=False)"
   ]
  },
  {
   "cell_type": "code",
   "execution_count": null,
   "metadata": {},
   "outputs": [],
   "source": []
  }
 ],
 "metadata": {
  "kernelspec": {
   "display_name": "Python 3 (ipykernel)",
   "language": "python",
   "name": "python3"
  },
  "language_info": {
   "codemirror_mode": {
    "name": "ipython",
    "version": 3
   },
   "file_extension": ".py",
   "mimetype": "text/x-python",
   "name": "python",
   "nbconvert_exporter": "python",
   "pygments_lexer": "ipython3",
   "version": "3.11.5"
  }
 },
 "nbformat": 4,
 "nbformat_minor": 4
}
